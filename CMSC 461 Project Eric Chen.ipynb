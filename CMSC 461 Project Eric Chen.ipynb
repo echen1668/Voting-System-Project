{
 "cells": [
  {
   "cell_type": "code",
   "execution_count": 1,
   "id": "608c3a44",
   "metadata": {
    "id": "608c3a44",
    "outputId": "41d3ad31-d310-44ce-98f1-b142015092da"
   },
   "outputs": [
    {
     "name": "stdout",
     "output_type": "stream",
     "text": [
      "Requirement already satisfied: mysql-connector-python in c:\\users\\alanhome\\anaconda3\\lib\\site-packages (8.0.33)\n",
      "Requirement already satisfied: protobuf<=3.20.3,>=3.11.0 in c:\\users\\alanhome\\anaconda3\\lib\\site-packages (from mysql-connector-python) (3.20.3)\n"
     ]
    }
   ],
   "source": [
    "!pip install mysql-connector-python"
   ]
  },
  {
   "cell_type": "code",
   "execution_count": 2,
   "id": "445222aa",
   "metadata": {
    "id": "445222aa"
   },
   "outputs": [],
   "source": [
    "import mysql.connector\n",
    "import sqlite3\n",
    "import math\n",
    "import datetime"
   ]
  },
  {
   "cell_type": "code",
   "execution_count": 3,
   "id": "86d1fff6",
   "metadata": {
    "id": "86d1fff6",
    "outputId": "e91c77eb-3efd-4156-f825-accade7bf107"
   },
   "outputs": [
    {
     "name": "stdout",
     "output_type": "stream",
     "text": [
      "Enter username········\n",
      "Enter password········\n"
     ]
    }
   ],
   "source": [
    "import getpass\n",
    "db_user = getpass.getpass('Enter username')\n",
    "db_password = getpass.getpass('Enter password')"
   ]
  },
  {
   "cell_type": "code",
   "execution_count": 4,
   "id": "4c578705",
   "metadata": {
    "id": "4c578705"
   },
   "outputs": [],
   "source": [
    "config = {\n",
    "   'user': db_user,\n",
    "   'password': db_password,\n",
    "   'host': 'localhost',\n",
    "   'port': 3306,\n",
    "   'database': 'university',\n",
    "   'raise_on_warnings': True                    \n",
    "}"
   ]
  },
  {
   "cell_type": "code",
   "execution_count": 5,
   "id": "34b9539b",
   "metadata": {
    "id": "34b9539b"
   },
   "outputs": [],
   "source": [
    "db_connection = mysql.connector.connect(**config)\n",
    "cur = db_connection.cursor(buffered=True)"
   ]
  },
  {
   "cell_type": "markdown",
   "id": "1ffcca15",
   "metadata": {},
   "source": [
    "# USER'S GUIDE"
   ]
  },
  {
   "cell_type": "markdown",
   "id": "ffba23b4",
   "metadata": {},
   "source": [
    "This application should allow you to mange data on folks, thier voter registeration, residence and voting centers, and ballots casted.\n",
    "You must run the required SQL scripts mentioned in the README file before you run this notebook.\n",
    "For each cell, there is function that does a certain taks as mentioned in the green header/comment.\n",
    "You must insert the required inputs as asked by the prompt.\n",
    "You need to type in input in the correct format to get the desired results, espiecally for datetime.\n",
    "\n",
    "The correct format for datetime is: \n",
    "    YEAR-MONTH-DAY HOUR-MIN_SEC \n",
    "    Ex: 2023-10-15 01:00:00"
   ]
  },
  {
   "cell_type": "code",
   "execution_count": 7,
   "id": "46ae61c8",
   "metadata": {
    "id": "46ae61c8",
    "outputId": "9cf528eb-1616-4d92-999d-4e6eacceecbb",
    "scrolled": true
   },
   "outputs": [
    {
     "name": "stdout",
     "output_type": "stream",
     "text": [
      "A.1: Enter ballot name:A113\n",
      "A.1: Enter question:Should the Ravens sign a cornerback?\n",
      "A.1: Enter start availability:2023-10-15 01:00:00\n",
      "A.1: Enter end availability:2023-10-25 01:00:00\n",
      "A.1: Enter answer:abstain\n",
      "A113       Should the Ravens sign a cornerback?                         abstain        \n",
      "A211       Should this country provide socialized public housing?       yes            \n",
      "A563       Should this country provide paid family leave?               yes            \n",
      "A844       Should this country raise the property taxes?                yes            \n",
      "A983       Should this country provide universal healthcare?            yes            \n",
      "B211       Should this country provide socialized public housing?       no             \n",
      "B563       Should this country provide paid family leave?               no             \n",
      "B844       Should this country raise the property taxes?                no             \n",
      "B983       Should this country provide universal healthcare?            no             \n",
      "C211       Should this country provide socialized public housing?       abstain        \n",
      "C563       Should this country provide paid family leave?               abstain        \n",
      "C844       Should this country raise the property taxes?                abstain        \n",
      "C983       Should this country provide universal healthcare?            abstain        \n"
     ]
    }
   ],
   "source": [
    "#A.1 a clerk creating a new ballot\n",
    "def insertBallot(name, question, avaibilty_start, avaibilty_end, answer):\n",
    "    query = (\"insert into ballot values(%s, %s, %s, %s, %s)\")\n",
    "    val = (name, question, avaibilty_start, avaibilty_end, answer)\n",
    "    try:\n",
    "        cur.execute(query, val)\n",
    "    except mysql.connector.Error as err:\n",
    "        print(\"Ballot of input name already exists: {}\".format(err))\n",
    "    query = (\"select name, question, answer from ballot\")\n",
    "    cur.execute(query)\n",
    "    for (name, question, answer) in cur:\n",
    "        print(\"{:10} {:60} {:15}\".format(name, question, answer))\n",
    "#Enter input (no quote marks)\n",
    "name = input('A.1: Enter ballot name:')\n",
    "question = input('A.1: Enter question:')\n",
    "avaibilty_start = input('A.1: Enter start availability:')\n",
    "avaibilty_end = input('A.1: Enter end availability:')\n",
    "answer = input('A.1: Enter answer:')\n",
    "insertBallot(name, question, avaibilty_start, avaibilty_end, answer)\n"
   ]
  },
  {
   "cell_type": "code",
   "execution_count": 8,
   "id": "2af49d5e",
   "metadata": {
    "id": "2af49d5e",
    "outputId": "f3c5a03d-3454-48b8-cf76-548686555c3c"
   },
   "outputs": [
    {
     "name": "stdout",
     "output_type": "stream",
     "text": [
      "A.2: Enter folk_id:1992819915136735\n",
      "A.2: Enter coordinate_x:2\n",
      "A.2: Enter coordinate_y:2\n",
      "A.2: Enter ballot name:C983\n",
      "A.2: Enter date_time:2023-10-16 05:22:00\n",
      "2409699756416072 1 2 A983 2023-10-15 01:45:33\n",
      "4959689014304805 1 2 A983 2023-10-15 01:45:33\n",
      "6650052336069205 1 2 A211 2023-11-04 03:05:33\n",
      "7480177713509264 1 2 A211 2023-11-04 03:05:33\n",
      "8459541205880432 1 2 A983 2023-11-04 03:05:33\n",
      "1992819915136735 1 2 B983 2023-10-15 01:45:33\n",
      "1525149326814639 1 2 A563 2023-10-15 01:45:33\n",
      "8736131283858623 2 1 A563 2023-10-15 01:45:33\n",
      "0252501238384682 2 1 C563 2023-11-06 11:00:13\n",
      "7977998543347340 2 1 C563 2023-11-06 11:00:13\n",
      "1238310352464547 2 1 A844 2023-10-23 08:09:13\n",
      "2674589867972948 2 1 A844 2023-10-23 08:09:13\n",
      "2409699756416072 2 1 C844 2023-10-23 08:09:13\n",
      "4959689014304805 2 1 C844 2023-11-03 07:39:13\n",
      "6650052336069205 2 1 A983 2023-11-03 07:39:13\n",
      "7480177713509264 2 2 A983 2023-11-03 07:39:13\n",
      "8459541205880432 2 2 C983 2023-10-16 05:22:00\n",
      "1992819915136735 2 2 A211 2023-10-16 05:22:00\n",
      "1525149326814639 2 2 B211 2023-10-16 05:22:00\n",
      "8736131283858623 2 2 A563 2023-10-16 05:22:00\n",
      "0252501238384682 2 2 A563 2023-11-07 07:22:00\n",
      "7977998543347340 2 2 C563 2023-11-07 07:22:00\n",
      "1238310352464547 2 2 B844 2023-11-07 07:22:00\n",
      "2674589867972948 2 2 B844 2023-11-07 07:22:00\n",
      "4331310352464547 4 4 A211 2023-11-07 07:22:00\n",
      "9078458986797290 4 4 A983 2023-11-07 07:22:00\n",
      "2674589800002948 4 4 A211 2023-11-07 07:22:00\n",
      "2674589800002948 2 2 B844 2023-11-07 07:22:00\n",
      "2674589800002948 2 1 C563 2023-11-07 07:22:00\n",
      "5389600756447011 4 4 A211 2023-11-07 07:22:00\n",
      "1992819915136735 2 2 C983 2023-10-16 05:22:00\n"
     ]
    }
   ],
   "source": [
    "#A.2 a folk registering to vote for a ballot\n",
    "def registerBallotC(folk_id, coordinate_x, coordinate_y, name, date_time):\n",
    "    query = (\"call registerBallot(%s, %s, %s, %s, %s)\")\n",
    "    val = (folk_id, coordinate_x, coordinate_y, name, date_time)\n",
    "    cur.execute(query, val)\n",
    "    query = (\"select id, coordinate_x, coordinate_y, name, date_time from register\")\n",
    "    cur.execute(query)\n",
    "    for (id, coordinate_x, coordinate_y, name, date_time) in cur:\n",
    "        print(id, coordinate_x, coordinate_y, name, date_time)\n",
    "#Enter input (no quote marks)\n",
    "folk_id = input('A.2: Enter folk_id:')\n",
    "coordinate_x = input('A.2: Enter coordinate_x:')\n",
    "coordinate_y = input('A.2: Enter coordinate_y:')\n",
    "name = input('A.2: Enter ballot name:')\n",
    "date_time = input('A.2: Enter date_time:')\n",
    "registerBallotC(folk_id, coordinate_x, coordinate_y, name, date_time)\n"
   ]
  },
  {
   "cell_type": "code",
   "execution_count": 10,
   "id": "21aa500d",
   "metadata": {
    "id": "21aa500d",
    "outputId": "ecc66421-a58e-4b1a-f248-827db5cedcc6"
   },
   "outputs": [
    {
     "name": "stdout",
     "output_type": "stream",
     "text": [
      "A.3: Enter ballot name:A113\n",
      "A.3: Enter start availability:2023-10-16 05:22:00\n",
      "A.3: Enter end availability:2023-10-17 05:22:00\n",
      "A113 Should the Ravens sign a cornerback? 2023-10-16 05:22:00 2023-10-17 05:22:00 abstain\n",
      "A211 Should this country provide socialized public housing? 2023-10-15 01:00:00 2023-11-08 12:59:59 yes\n",
      "A563 Should this country provide paid family leave? 2023-10-15 01:00:00 2023-11-08 12:59:59 yes\n",
      "A844 Should this country raise the property taxes? 2023-10-15 01:00:00 2023-11-08 12:59:59 yes\n",
      "A983 Should this country provide universal healthcare? 2023-10-15 01:00:00 2023-11-08 12:59:59 yes\n",
      "B211 Should this country provide socialized public housing? 2023-10-15 01:00:00 2023-11-08 12:59:59 no\n",
      "B563 Should this country provide paid family leave? 2023-10-15 01:00:00 2023-11-08 12:59:59 no\n",
      "B844 Should this country raise the property taxes? 2023-10-15 01:00:00 2023-11-08 12:59:59 no\n",
      "B983 Should this country provide universal healthcare? 2023-10-15 01:00:00 2023-11-08 12:59:59 no\n",
      "C211 Should this country provide socialized public housing? 2023-10-15 01:00:00 2023-11-08 12:59:59 abstain\n",
      "C563 Should this country provide paid family leave? 2023-10-15 01:00:00 2023-11-08 12:59:59 abstain\n",
      "C844 Should this country raise the property taxes? 2023-10-15 01:00:00 2023-11-08 12:59:59 abstain\n",
      "C983 Should this country provide universal healthcare? 2023-10-15 01:00:00 2023-11-08 12:59:59 abstain\n"
     ]
    }
   ],
   "source": [
    "#A.3 a clerk modifying the availability period of a current ballot\n",
    "#Note that a ballot can only be modified if no one has cast thier vote on it yet.\n",
    "def modifyBallotC(name, avaibilty_start, avaibilty_end):\n",
    "    query = (\"call modifyBallot(%s, %s, %s)\")\n",
    "    val = (name, avaibilty_start, avaibilty_end)\n",
    "    cur.execute(query, val)\n",
    "    query = (\"select name, question, avaibilty_start, avaibilty_end, answer from ballot\")\n",
    "    cur.execute(query)\n",
    "    for (name, question, avaibilty_start, avaibilty_end, answer) in cur:\n",
    "        print(name, question, avaibilty_start, avaibilty_end, answer)\n",
    "#Enter input (no quote marks)\n",
    "name = input('A.3: Enter ballot name:')\n",
    "avaibilty_start = input('A.3: Enter start availability:')\n",
    "avaibilty_end = input('A.3: Enter end availability:')\n",
    "modifyBallotC(name, avaibilty_start, avaibilty_end)  "
   ]
  },
  {
   "cell_type": "code",
   "execution_count": 11,
   "id": "d654ce64",
   "metadata": {
    "id": "d654ce64",
    "outputId": "3811ec09-7862-4c7f-e7d5-69ac399e77c8"
   },
   "outputs": [],
   "source": [
    "#A.4 a voter casting a ballot while confirming a valid voting registration by a monitor\n",
    "#You have run transaction.sql for operation A.4."
   ]
  },
  {
   "cell_type": "code",
   "execution_count": 12,
   "id": "3457b450",
   "metadata": {
    "id": "3457b450",
    "outputId": "b8c00863-5525-41c3-f95d-19ce5d112ba4"
   },
   "outputs": [
    {
     "name": "stdout",
     "output_type": "stream",
     "text": [
      "A.5: Enter folk_id:9078458986797290\n",
      "0252501238384682 Jazmine         Gentry         \n",
      "1236667352464547 Zack            Miller         \n",
      "1238310352464547 Anjali          Ponce          \n",
      "1525149326814639 Mary            Glover         \n",
      "1992819915136735 Lula            Bloggs         \n",
      "2409699756416072 Shanice         Rose           \n",
      "2674589800002948 Bobby           Crosby         \n",
      "2674589867972948 Ayesha          Crosby         \n",
      "3216667352464997 Rustey          Miller         \n",
      "4331310352464547 Danny           Diaz           \n",
      "4959689014304805 Tess            Mcclain        \n",
      "5389600756447011 Dale            Rose           \n",
      "6650052336069205 Harley          Munoz          \n",
      "7480177713509264 Meghan          Ruiz           \n",
      "7977998543347340 Zachery         Everett        \n",
      "8459541205880432 Casper          Valentine      \n",
      "8736131283858623 Tomos           Chaney         \n"
     ]
    }
   ],
   "source": [
    "#A.5 a staff removing a folk (and all their associated information)\n",
    "def deleteFolk(folk_id):\n",
    "    query = (\"delete from folks where id = %s\" % folk_id)\n",
    "    cur.execute(query)\n",
    "    query = (\"select id, first_name, last_name from folks\")\n",
    "    cur.execute(query)\n",
    "    for (id, first_name, last_name) in cur:\n",
    "        print(\"{:10} {:15} {:15}\".format(id, first_name, last_name))\n",
    "#Enter input (no quote marks)\n",
    "folk_id = input('A.5: Enter folk_id:')\n",
    "deleteFolk(folk_id)"
   ]
  },
  {
   "cell_type": "code",
   "execution_count": 13,
   "id": "53eed4be",
   "metadata": {
    "id": "53eed4be",
    "outputId": "cc31ef6d-96dc-43f9-f7f8-20f95d0c2318"
   },
   "outputs": [
    {
     "name": "stdout",
     "output_type": "stream",
     "text": [
      "Shanice    Rose       Columbia   Shanice@gmail.com\n",
      "Shanice    Rose       Columbia   Shanice2@gmail.com\n",
      "Tess       Mcclain    Columbia   Tess@gmail.com\n",
      "Tess       Mcclain    Columbia   Tess2@gmail.com\n",
      "Dale       Rose       Columbia   Dale@gmail.com\n",
      "Mary       Glover     Baltimore  Mary@gmail.com\n",
      "Lula       Bloggs     Baltimore  Lula@gmail.com\n",
      "Meghan     Ruiz       Columbia   Meghan@gmail.com\n",
      "Casper     Valentine  Columbia   Casper@gmail.com\n",
      "Danny      Diaz       Fredrick   Danny@gmail.com\n",
      "Bobby      Crosby     Lassovile  Bobby@gmail.com\n",
      "Jazmine    Gentry     Baltimore  Jazmine@gmail.com\n",
      "Zachery    Everett    Baltimore  Zachery@gmail.com\n",
      "Ayesha     Crosby     Columbia   Ayesha@gmail.com\n",
      "Harley     Munoz      Columbia   Harley@gmail.com\n",
      "Anjali     Ponce      Baltimore  Anjali@gmail.com\n",
      "Anjali     Ponce      Baltimore  Anjali2@gmail.com\n",
      "Tomos      Chaney     Baltimore  Tomos@gmail.com\n",
      "Zack       Miller     Golden Springs Zack@gmail.com\n"
     ]
    }
   ],
   "source": [
    "#B.1 List the name, city, and email (any single email suffices) of all folks\n",
    "def getFolkInfo():\n",
    "    query = (\"select first_name, last_name, city, email from (folks inner join (residence natural inner join place) using(coordinate_x, coordinate_y)) inner join folks_email using(id)\")\n",
    "    cur.execute(query)\n",
    "    for (first_name, last_name, city, email) in cur:\n",
    "        print(\"{:10} {:10} {:10} {:10}\".format(first_name, last_name, city, email))\n",
    "getFolkInfo()"
   ]
  },
  {
   "cell_type": "code",
   "execution_count": 14,
   "id": "97bfb5dc",
   "metadata": {
    "id": "97bfb5dc",
    "outputId": "c13450f7-fa9f-4e1d-a8a7-a9e1dc7bea05"
   },
   "outputs": [
    {
     "name": "stdout",
     "output_type": "stream",
     "text": [
      "Columbia             Delware             7\n",
      "Baltimore            Maryland            6\n",
      "Golden Springs       Delware             2\n",
      "Fredrick             Maryland            1\n",
      "Lassovile            Delware             1\n"
     ]
    }
   ],
   "source": [
    "#B.2 List the city, state, and the number of residents of each city in Wonderland (skip cities with no residents) in decreasing order of number of residents\n",
    "def getCityInfo():\n",
    "    query = (\"select city, state, count(distinct id) as num_resd from folks inner join (residence natural inner join place) using(coordinate_x, coordinate_y) group by city, state order by count(distinct id) desc\")\n",
    "    cur.execute(query)\n",
    "    for (city, state, num_resd) in cur:\n",
    "        print(\"{:20} {:10} {:10}\".format(city, state, num_resd))\n",
    "getCityInfo()"
   ]
  },
  {
   "cell_type": "code",
   "execution_count": 15,
   "id": "a3ab6cdb",
   "metadata": {
    "id": "a3ab6cdb",
    "outputId": "c2dbca05-bd49-4ae0-e3da-8205fc451ab6"
   },
   "outputs": [
    {
     "name": "stdout",
     "output_type": "stream",
     "text": [
      "Delware             5\n",
      "Maryland            4\n"
     ]
    }
   ],
   "source": [
    "#B.3 List each state together with its number of currently inhabited places (include states with no inhabited places) in increasing alphabetical order.\n",
    "def getStateInfo():\n",
    "    query = (\"select state, count(distinct folks.coordinate_x, folks.coordinate_y) as num_inhabited_places from folks inner join (residence natural inner join place) using(coordinate_x, coordinate_y) group by state order by state asc\")\n",
    "    cur.execute(query)\n",
    "    for (state, num_inhabited_places) in cur:\n",
    "        print(\"{:10} {:10}\".format(state, num_inhabited_places))\n",
    "getStateInfo()"
   ]
  },
  {
   "cell_type": "code",
   "execution_count": 16,
   "id": "78db95be",
   "metadata": {
    "id": "78db95be",
    "outputId": "c874871f-0192-4716-86ed-33b2eceff970"
   },
   "outputs": [
    {
     "name": "stdout",
     "output_type": "stream",
     "text": [
      "B.4: Enter voting center id:A476\n",
      "B.4: Enter start time:2023-10-15 01:00:00\n",
      "B.4: Enter end time:2023-11-15 01:00:00\n",
      "('2409699756416072',)\n",
      "('4959689014304805',)\n",
      "('6650052336069205',)\n",
      "('7480177713509264',)\n",
      "('8459541205880432',)\n",
      "('1992819915136735',)\n",
      "('1525149326814639',)\n"
     ]
    }
   ],
   "source": [
    "#B.4 Find the distinct identifiers of folks registered at a given voting center within a given time period.\n",
    "def getRegistVoters(vot_cent_id, start_time, end_time):\n",
    "    query = (\"select distinct register.id as folk_id from register inner join voting_center using(coordinate_x, coordinate_y) where voting_center.id = %s and date_time between %s and %s\")\n",
    "    val = (vot_cent_id, start_time, end_time)\n",
    "    cur.execute(query, val)\n",
    "    for (folk_id) in cur:\n",
    "        print(folk_id)\n",
    "#Enter input (no quote marks)\n",
    "vot_cent_id = input('B.4: Enter voting center id:')\n",
    "start_time = input('B.4: Enter start time:')\n",
    "end_time = input('B.4: Enter end time:')\n",
    "getRegistVoters(vot_cent_id, start_time, end_time)"
   ]
  },
  {
   "cell_type": "code",
   "execution_count": 17,
   "id": "d4deaea1",
   "metadata": {
    "id": "d4deaea1",
    "outputId": "88b5373a-8d51-431d-f296-5cf4c5ebf474"
   },
   "outputs": [
    {
     "name": "stdout",
     "output_type": "stream",
     "text": [
      "B.5: Enter list of excluded voting center seperated by space (You need to wrap them in quote marks and No commas)'B088' 'C245'\n",
      "[\"'B088'\", \"'C245'\"]\n",
      "B.5: Enter month:10\n",
      "'B088', 'C245'\n",
      "(4,)\n"
     ]
    }
   ],
   "source": [
    "#B.5 Find for a given month, the number of unique registrations at any voting center which is within \n",
    "# 5 miles from the center of Megapolis, except for voting\n",
    "# centers in a given (exclusion) list of voting centers.\n",
    "def getNumRegNearMegaplois(vot_cent_ids, month):\n",
    "    format_list = ', '.join(str(ids)for ids in vot_cent_ids)\n",
    "    print(format_list)\n",
    "    val = (format_list, month)\n",
    "    query = (\"select count(distinct register.id) as num_reg from register inner join voting_center using(coordinate_x, coordinate_y) where voting_center.id not in (%s) and power(voting_center.coordinate_x, 2) + power(voting_center.coordinate_y, 2) < 25 and month(register.date_time) = %s\" % val)\n",
    "    cur.execute(query)\n",
    "    for (num_reg) in cur:\n",
    "        print(num_reg)\n",
    "#Enter input\n",
    "vot_cent_ids = input('B.5: Enter list of excluded voting center seperated by space (You need to wrap them in quote marks and No commas)')\n",
    "vot_cent_ids = vot_cent_ids.split()\n",
    "print(vot_cent_ids)\n",
    "month = input('B.5: Enter month:')\n",
    "getNumRegNearMegaplois(vot_cent_ids, month)"
   ]
  },
  {
   "cell_type": "code",
   "execution_count": 18,
   "id": "1911b051",
   "metadata": {
    "id": "1911b051",
    "outputId": "6846ea23-906d-491a-988c-2d86b6a7f51b"
   },
   "outputs": [
    {
     "name": "stdout",
     "output_type": "stream",
     "text": [
      "B.6: Enter city:Baltimore\n",
      "B.6: Enter start time:2023-10-15 01:45:33\n",
      "B.6: Enter end time:2023-11-15 01:45:33\n",
      "C245 10\n"
     ]
    }
   ],
   "source": [
    "#B.6 Find the most popular voting center(s) (in terms of total number of registrations) in a given time period among those in a given city. \n",
    "def getPopVC(city, start_time, end_time):\n",
    "    query = (\"select voting_center.id as voting_cen_id, count(distinct register.id) as num_reg from (voting_center natural inner join place) inner join register using(coordinate_x, coordinate_y) where place.city = %s and register.date_time between %s and %s group by voting_center.id order by count(distinct register.id) desc limit 1\")\n",
    "    val = (city, start_time, end_time)\n",
    "    cur.execute(query, val)\n",
    "    for (voting_cen_id, num_reg) in cur:\n",
    "        print(voting_cen_id, num_reg)\n",
    "#Enter input (no quote marks)\n",
    "city = input('B.6: Enter city:')\n",
    "start_time = input('B.6: Enter start time:')\n",
    "end_time = input('B.6: Enter end time:')\n",
    "getPopVC(city, start_time, end_time)"
   ]
  },
  {
   "cell_type": "code",
   "execution_count": 20,
   "id": "f2b13e1a",
   "metadata": {
    "id": "f2b13e1a",
    "outputId": "5d5d1fee-9ead-45b1-cc4e-ee9413b01f67"
   },
   "outputs": [
    {
     "name": "stdout",
     "output_type": "stream",
     "text": [
      "B.7: Enter state:Maryland\n",
      "('2674589800002948',)\n"
     ]
    }
   ],
   "source": [
    "#B.7 Find the unique folk that have valid registrations with every voting center on a given state.\n",
    "def getFolkAllVC(state):\n",
    "    command = \"select distinct id as folk_id from register as A where not exists(select voting_center.coordinate_x, voting_center.coordinate_y from voting_center natural inner join place where state = '%s' and (voting_center.coordinate_x, voting_center.coordinate_y) not in (select coordinate_x, coordinate_y from register as B where B.id = A.id))\" % state\n",
    "    query = (command)\n",
    "    cur.execute(query)\n",
    "    for (folk_id) in cur:\n",
    "        print(folk_id)\n",
    "#Enter input (no quote marks)\n",
    "state = input('B.7: Enter state:')\n",
    "getFolkAllVC(state)"
   ]
  },
  {
   "cell_type": "code",
   "execution_count": 21,
   "id": "59d3aa06",
   "metadata": {
    "id": "59d3aa06",
    "outputId": "d2817c59-5c44-4478-e740-8313f3d9c52e"
   },
   "outputs": [
    {
     "name": "stdout",
     "output_type": "stream",
     "text": [
      "('5389600756447011',)\n",
      "('1525149326814639',)\n",
      "('1992819915136735',)\n",
      "('7480177713509264',)\n",
      "('8459541205880432',)\n",
      "('2674589800002948',)\n",
      "('0252501238384682',)\n",
      "('7977998543347340',)\n",
      "('2674589867972948',)\n",
      "('6650052336069205',)\n",
      "('1238310352464547',)\n",
      "('8736131283858623',)\n"
     ]
    }
   ],
   "source": [
    "#B.8 Find folks that registered at a voting center that is farther away than the voting\n",
    "# center closest to their residence (break ties alphabetically by center’s acronym).\n",
    "def getFolkRegFar():\n",
    "    query = (\"select distinct register.id as folk_id from (folks natural inner join (residence as A)) inner join register using(id) where sqrt(power(abs(register.coordinate_x - A.coordinate_x), 2) + power(abs(register.coordinate_y - A.coordinate_y), 2)) > (select min(sqrt(power(abs(voting_center.coordinate_x - B.coordinate_x), 2) + power(abs(voting_center.coordinate_y - B.coordinate_y), 2))) from (residence as B), voting_center where B.residence_number = A.residence_number)\")\n",
    "    cur.execute(query)\n",
    "    for (folk_id) in cur:\n",
    "        print(folk_id)\n",
    "getFolkRegFar()"
   ]
  },
  {
   "cell_type": "code",
   "execution_count": 22,
   "id": "e930433a",
   "metadata": {
    "id": "e930433a",
    "outputId": "053d0445-9024-4ac1-a244-9a1e07757863"
   },
   "outputs": [
    {
     "name": "stdout",
     "output_type": "stream",
     "text": [
      "B.9: Enter folk_id:0252501238384682\n",
      "B.9: Enter date time:2023-10-16 12:59:59\n",
      "('B088',)\n"
     ]
    }
   ],
   "source": [
    "#B.9 Write a SQL function that returns the acronym of the voting center closest to\n",
    "# the residence of a given folk among those whose operating period(s) contain a\n",
    "# given date (return NULL if no such center exists; break ties at alphabetically by acronym).\n",
    "def getClosestVC(folk_id, date_time):\n",
    "    query = (\"select b9Function(%s, %s) as output\")\n",
    "    val = (folk_id, date_time)\n",
    "    cur.execute(query, val)\n",
    "    for (output) in cur:\n",
    "        print(output)\n",
    "#Enter input (no quote marks)\n",
    "folk_id = input('B.9: Enter folk_id:')\n",
    "date_time = input('B.9: Enter date time:')\n",
    "getClosestVC(folk_id, date_time)  "
   ]
  },
  {
   "cell_type": "code",
   "execution_count": 26,
   "id": "09a14010",
   "metadata": {
    "id": "09a14010",
    "outputId": "282f70ed-43e7-48b6-cdfd-3a8af388f6c6"
   },
   "outputs": [
    {
     "name": "stdout",
     "output_type": "stream",
     "text": [
      "B.10: Enter question:Should this country provide socialized public housing?\n",
      "A476      1     0     0\n",
      "C245      1     1     0\n",
      "D245      1     0     0\n",
      "B088      1     0     0\n"
     ]
    }
   ],
   "source": [
    "#B.10 For a given ballot, construct a cross-tabulation of voting centers (acronym) as\n",
    "# rows, unique ballot answers (options) as columns, and cells indicating number\n",
    "# of cast votes at the row’s center with the column’s option.\n",
    "def getVotingBallotInfo(question):\n",
    "    query = (\"select voting_center.id as voting_center_id, count(case when ballot.answer = 'yes' then 1 end) as YES,  count(case when ballot.answer = 'no' then 1 end) as NO, count(case when ballot.answer = 'abstain' then 1 end) as ABSTAIN from (voting_center inner join casts using(coordinate_x, coordinate_y)) inner join ballot using(name) where ballot.question = '%s' group by voting_center.id\" % question)\n",
    "    try:\n",
    "        cur.execute(query)\n",
    "        for (voting_center_id, YES, NO, ABSTAIN) in cur:\n",
    "            print(\"{:5} {:5} {:5} {:5}\".format(voting_center_id, YES, NO, ABSTAIN))\n",
    "    except mysql.connector.Error as err:\n",
    "        print(\"Error occured or Ballot question does not exists: {}\".format(err))\n",
    "#Enter input (no quote marks)        \n",
    "question = input('B.10: Enter question:')\n",
    "getVotingBallotInfo(question)"
   ]
  },
  {
   "cell_type": "code",
   "execution_count": null,
   "id": "b232d3de",
   "metadata": {
    "id": "b232d3de"
   },
   "outputs": [],
   "source": []
  },
  {
   "cell_type": "code",
   "execution_count": 27,
   "id": "dd31740b",
   "metadata": {
    "id": "dd31740b"
   },
   "outputs": [],
   "source": [
    "cur.close()\n",
    "db_connection.close()"
   ]
  },
  {
   "cell_type": "code",
   "execution_count": null,
   "id": "c6a965ff",
   "metadata": {
    "id": "c6a965ff"
   },
   "outputs": [],
   "source": []
  }
 ],
 "metadata": {
  "colab": {
   "provenance": []
  },
  "kernelspec": {
   "display_name": "Python 3 (ipykernel)",
   "language": "python",
   "name": "python3"
  },
  "language_info": {
   "codemirror_mode": {
    "name": "ipython",
    "version": 3
   },
   "file_extension": ".py",
   "mimetype": "text/x-python",
   "name": "python",
   "nbconvert_exporter": "python",
   "pygments_lexer": "ipython3",
   "version": "3.10.9"
  }
 },
 "nbformat": 4,
 "nbformat_minor": 5
}
